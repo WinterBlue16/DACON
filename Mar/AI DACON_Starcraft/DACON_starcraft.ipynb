{
 "cells": [
  {
   "cell_type": "code",
   "execution_count": 3,
   "metadata": {},
   "outputs": [
    {
     "name": "stdout",
     "output_type": "stream",
     "text": [
      "Collecting bayesian-optimization\n",
      "  Downloading https://files.pythonhosted.org/packages/b5/26/9842333adbb8f17bcb3d699400a8b1ccde0af0b6de8d07224e183728acdf/bayesian_optimization-1.1.0-py3-none-any.whl\n",
      "Requirement already satisfied: scipy>=0.14.0 in /home/lab14/.local/lib/python3.6/site-packages (from bayesian-optimization) (1.4.1)\n",
      "Requirement already satisfied: numpy>=1.9.0 in /home/ubuntu/anaconda3/lib/python3.6/site-packages (from bayesian-optimization) (1.16.4)\n",
      "Requirement already satisfied: scikit-learn>=0.18.0 in /home/ubuntu/anaconda3/lib/python3.6/site-packages (from bayesian-optimization) (0.21.3)\n",
      "Requirement already satisfied: joblib>=0.11 in /home/ubuntu/anaconda3/lib/python3.6/site-packages (from scikit-learn>=0.18.0->bayesian-optimization) (0.14.0)\n",
      "Installing collected packages: bayesian-optimization\n",
      "Successfully installed bayesian-optimization-1.1.0\n"
     ]
    }
   ],
   "source": [
    "!pip install bayesian-optimization"
   ]
  },
  {
   "cell_type": "code",
   "execution_count": 4,
   "metadata": {},
   "outputs": [],
   "source": [
    "import pandas as pd\n",
    "import numpy as np\n",
    "from tqdm import tqdm\n",
    "from sklearn.metrics import roc_auc_score\n",
    "from sklearn.model_selection import KFold\n",
    "from bayes_opt import BayesianOptimization\n",
    "from functools import partial\n",
    "import lightgbm as lgb\n",
    "import warnings\n",
    "warnings.filterwarnings('ignore')"
   ]
  },
  {
   "cell_type": "code",
   "execution_count": 5,
   "metadata": {},
   "outputs": [],
   "source": [
    "def species_converter(string):\n",
    "    if string == 'T':\n",
    "        return 0\n",
    "    elif string == 'P':\n",
    "        return 1\n",
    "    elif string == 'Z':\n",
    "        return 2\n",
    "    else:\n",
    "        raise ValueError\n",
    "\n",
    "def data_preparation(df, answer=False):\n",
    "    game_ids = df['game_id'].unique()\n",
    "    events = ['Ability', 'AddToControlGroup', 'Camera', 'ControlGroup', 'GetControlGroup', 'Right Click', 'Selection', 'SetControlGroup']\n",
    "    unique_event_0, unique_event_1, delta_event = {}, {}, {}\n",
    "    for event in events:\n",
    "        unique_event_0['P0_' + event] = 0\n",
    "        unique_event_1['P1_' + event] = 0\n",
    "        delta_event['delta_' + event] = 0\n",
    "        \n",
    "    species = df.groupby(['game_id', 'player']).species.unique()\n",
    "    event_count = df.groupby(['game_id', 'player']).event.value_counts()\n",
    "    if answer:\n",
    "        winners = df.groupby(['game_id']).winner.max()\n",
    "    \n",
    "    x_data, y_data = [], []\n",
    "    for game_id in tqdm(game_ids):\n",
    "        df_event_count = event_count[game_id].unstack(level=-1)\n",
    "        df = pd.DataFrame(species[game_id])\n",
    "        df = pd.concat([df, df_event_count], axis=1)   \n",
    "        df = df.fillna(0)\n",
    "        \n",
    "        df_P0_species = pd.DataFrame([species_converter(df.loc[0]['species'][0])], columns=['P0_species'])        \n",
    "        df_P1_species = pd.DataFrame([species_converter(df.loc[1]['species'][0])], columns=['P1_species'])\n",
    "        df = df.drop(['species'], axis=1)\n",
    "\n",
    "        df_P0_event = unique_event_0.copy()\n",
    "        for column in df.columns:\n",
    "            df_P0_event['P0_' + column] = df.loc[0][column]\n",
    "        df_P0_event = pd.DataFrame(pd.Series(df_P0_event)).T\n",
    "\n",
    "        df_P1_event = unique_event_1.copy()\n",
    "        for column in df.columns:\n",
    "            df_P1_event['P1_' + column] = df.loc[1][column]\n",
    "        df_P1_event = pd.DataFrame(pd.Series(df_P1_event)).T\n",
    "        \n",
    "        df_delta_event = delta_event.copy()\n",
    "        for column in df.columns:\n",
    "            df_delta_event['delta_' + column] = df_P0_event['P0_' + column][0] - df_P1_event['P1_' + column][0]\n",
    "        df_delta_event = pd.DataFrame(pd.Series(df_delta_event)).T\n",
    "\n",
    "        out = pd.concat([df_P0_species, df_P0_event, df_P1_species, df_P1_event, df_delta_event], axis=1)\n",
    "        out.index = [game_id]\n",
    "        out.index.name = 'game_id'\n",
    "        \n",
    "        x_data.append(out)\n",
    "        if answer:\n",
    "            y_data.append(winners[game_id])  \n",
    "\n",
    "    x_data = pd.concat(x_data)\n",
    "    y_data = np.array(y_data)\n",
    "    \n",
    "    return x_data, y_data"
   ]
  },
  {
   "cell_type": "code",
   "execution_count": null,
   "metadata": {},
   "outputs": [],
   "source": [
    "train = pd.read_csv('train.csv')\n",
    "x_train, y_train = data_preparation(train, answer=True)\n",
    "x_train.head()"
   ]
  }
 ],
 "metadata": {
  "kernelspec": {
   "display_name": "Python 3",
   "language": "python",
   "name": "python3"
  },
  "language_info": {
   "codemirror_mode": {
    "name": "ipython",
    "version": 3
   },
   "file_extension": ".py",
   "mimetype": "text/x-python",
   "name": "python",
   "nbconvert_exporter": "python",
   "pygments_lexer": "ipython3",
   "version": "3.6.6"
  }
 },
 "nbformat": 4,
 "nbformat_minor": 2
}
