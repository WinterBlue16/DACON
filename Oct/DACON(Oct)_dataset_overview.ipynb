{
  "nbformat": 4,
  "nbformat_minor": 0,
  "metadata": {
    "colab": {
      "name": "DACON(Oct)_dataset overview.ipynb",
      "provenance": [],
      "collapsed_sections": [],
      "toc_visible": true
    },
    "kernelspec": {
      "name": "python3",
      "display_name": "Python 3"
    },
    "accelerator": "GPU"
  },
  "cells": [
    {
      "cell_type": "markdown",
      "metadata": {
        "id": "zmTINQWH7tI_",
        "colab_type": "text"
      },
      "source": [
        "# Dataset overview"
      ]
    },
    {
      "cell_type": "code",
      "metadata": {
        "id": "ml3o83I37vH8",
        "colab_type": "code",
        "colab": {}
      },
      "source": [
        "# 라이브러리 불러오기 \n",
        "import pandas as pd"
      ],
      "execution_count": 1,
      "outputs": []
    },
    {
      "cell_type": "code",
      "metadata": {
        "id": "6VUeyTIlEQhf",
        "colab_type": "code",
        "colab": {}
      },
      "source": [
        "# train data 불러오기 \n",
        "train_set1 = pd.read_csv('/content/drive/My Drive/dacon/security_dataset/HAI 1.0/train-dataset/train1.csv', index_col=0)\n",
        "train_set2 = pd.read_csv('/content/drive/My Drive/dacon/security_dataset/HAI 1.0/train-dataset/train2.csv', index_col=0)\n",
        "\n",
        "# test data 불러오기\n",
        "test_set1 = pd.read_csv('/content/drive/My Drive/dacon/security_dataset/HAI 1.0/test-dataset/test1.csv', index_col=0)\n",
        "test_set2 = pd.read_csv('/content/drive/My Drive/dacon/security_dataset/HAI 1.0/test-dataset/test2.csv', index_col=0)"
      ],
      "execution_count": 5,
      "outputs": []
    },
    {
      "cell_type": "code",
      "metadata": {
        "id": "qwB76_YkFRoZ",
        "colab_type": "code",
        "colab": {
          "base_uri": "https://localhost:8080/",
          "height": 71
        },
        "outputId": "116f7dc4-3316-4670-a756-18963f45483e"
      },
      "source": [
        "# value 값 확인하기\n",
        "train_set2['attack'].value_counts()"
      ],
      "execution_count": 9,
      "outputs": [
        {
          "output_type": "execute_result",
          "data": {
            "text/plain": [
              "0    240424\n",
              "1       776\n",
              "Name: attack, dtype: int64"
            ]
          },
          "metadata": {
            "tags": []
          },
          "execution_count": 9
        }
      ]
    },
    {
      "cell_type": "code",
      "metadata": {
        "id": "cbGfUbu6FejU",
        "colab_type": "code",
        "colab": {
          "base_uri": "https://localhost:8080/",
          "height": 1000
        },
        "outputId": "178de88e-62d6-477c-ed40-8361c04eac3f"
      },
      "source": [
        "# 공격이 들어온 raw만 추출\n",
        "attack_df = train_set2[train_set2['attack']==1]\n",
        "attack_df.info()"
      ],
      "execution_count": 12,
      "outputs": [
        {
          "output_type": "stream",
          "text": [
            "<class 'pandas.core.frame.DataFrame'>\n",
            "Index: 776 entries, 2019-11-02 15:31:25 to 2019-11-03 15:37:53\n",
            "Data columns (total 63 columns):\n",
            " #   Column      Non-Null Count  Dtype  \n",
            "---  ------      --------------  -----  \n",
            " 0   P1_B2004    776 non-null    float64\n",
            " 1   P1_B2016    776 non-null    float64\n",
            " 2   P1_B3004    776 non-null    float64\n",
            " 3   P1_B3005    776 non-null    float64\n",
            " 4   P1_B4002    776 non-null    float64\n",
            " 5   P1_B4005    776 non-null    float64\n",
            " 6   P1_B400B    776 non-null    float64\n",
            " 7   P1_B4022    776 non-null    float64\n",
            " 8   P1_FCV01D   776 non-null    float64\n",
            " 9   P1_FCV01Z   776 non-null    float64\n",
            " 10  P1_FCV02D   776 non-null    float64\n",
            " 11  P1_FCV02Z   776 non-null    float64\n",
            " 12  P1_FCV03D   776 non-null    float64\n",
            " 13  P1_FCV03Z   776 non-null    float64\n",
            " 14  P1_FT01     776 non-null    float64\n",
            " 15  P1_FT01Z    776 non-null    float64\n",
            " 16  P1_FT02     776 non-null    float64\n",
            " 17  P1_FT02Z    776 non-null    float64\n",
            " 18  P1_FT03     776 non-null    float64\n",
            " 19  P1_FT03Z    776 non-null    float64\n",
            " 20  P1_LCV01D   776 non-null    float64\n",
            " 21  P1_LCV01Z   776 non-null    float64\n",
            " 22  P1_LIT01    776 non-null    float64\n",
            " 23  P1_PCV01D   776 non-null    float64\n",
            " 24  P1_PCV01Z   776 non-null    float64\n",
            " 25  P1_PCV02D   776 non-null    int64  \n",
            " 26  P1_PCV02Z   776 non-null    float64\n",
            " 27  P1_PIT01    776 non-null    float64\n",
            " 28  P1_PIT02    776 non-null    float64\n",
            " 29  P1_TIT01    776 non-null    float64\n",
            " 30  P1_TIT02    776 non-null    float64\n",
            " 31  P2_24Vdc    776 non-null    float64\n",
            " 32  P2_Auto     776 non-null    int64  \n",
            " 33  P2_Emgy     776 non-null    int64  \n",
            " 34  P2_On       776 non-null    int64  \n",
            " 35  P2_SD01     776 non-null    int64  \n",
            " 36  P2_SIT01    776 non-null    float64\n",
            " 37  P2_TripEx   776 non-null    int64  \n",
            " 38  P2_VT01e    776 non-null    float64\n",
            " 39  P2_VXT02    776 non-null    float64\n",
            " 40  P2_VXT03    776 non-null    float64\n",
            " 41  P2_VYT02    776 non-null    float64\n",
            " 42  P2_VYT03    776 non-null    float64\n",
            " 43  P3_LCP01D   776 non-null    int64  \n",
            " 44  P3_LCV01D   776 non-null    int64  \n",
            " 45  P3_LH       776 non-null    int64  \n",
            " 46  P3_LL       776 non-null    int64  \n",
            " 47  P3_LT01     776 non-null    float64\n",
            " 48  P4_HT_FD    776 non-null    float64\n",
            " 49  P4_HT_LD    776 non-null    float64\n",
            " 50  P4_HT_PO    776 non-null    float64\n",
            " 51  P4_HT_PS    776 non-null    int64  \n",
            " 52  P4_LD       776 non-null    float64\n",
            " 53  P4_ST_FD    776 non-null    float64\n",
            " 54  P4_ST_LD    776 non-null    float64\n",
            " 55  P4_ST_PO    776 non-null    float64\n",
            " 56  P4_ST_PS    776 non-null    float64\n",
            " 57  P4_ST_PT01  776 non-null    float64\n",
            " 58  P4_ST_TT01  776 non-null    float64\n",
            " 59  attack      776 non-null    int64  \n",
            " 60  attack_P1   776 non-null    int64  \n",
            " 61  attack_P2   776 non-null    int64  \n",
            " 62  attack_P3   776 non-null    int64  \n",
            "dtypes: float64(48), int64(15)\n",
            "memory usage: 388.0+ KB\n"
          ],
          "name": "stdout"
        }
      ]
    },
    {
      "cell_type": "code",
      "metadata": {
        "id": "FxSlSiQAG903",
        "colab_type": "code",
        "colab": {
          "base_uri": "https://localhost:8080/",
          "height": 53
        },
        "outputId": "7ca6a29e-0a0f-4b7a-c2df-7fa5f7d3eecc"
      },
      "source": [
        "# attack_P1, attack_P2, attack_P3과 attack의 상관관계 탐색\n",
        "attack_df.head()\n",
        "attack_df['attack_P1'].value_counts()"
      ],
      "execution_count": 14,
      "outputs": [
        {
          "output_type": "execute_result",
          "data": {
            "text/plain": [
              "1    776\n",
              "Name: attack_P1, dtype: int64"
            ]
          },
          "metadata": {
            "tags": []
          },
          "execution_count": 14
        }
      ]
    },
    {
      "cell_type": "code",
      "metadata": {
        "id": "UIvveaqfHX0a",
        "colab_type": "code",
        "colab": {
          "base_uri": "https://localhost:8080/",
          "height": 53
        },
        "outputId": "9e00fb4b-4904-4a2b-d3e3-c4fed7936078"
      },
      "source": [
        "attack_df['attack_P2'].value_counts()"
      ],
      "execution_count": 15,
      "outputs": [
        {
          "output_type": "execute_result",
          "data": {
            "text/plain": [
              "0    776\n",
              "Name: attack_P2, dtype: int64"
            ]
          },
          "metadata": {
            "tags": []
          },
          "execution_count": 15
        }
      ]
    },
    {
      "cell_type": "code",
      "metadata": {
        "id": "-ywupcfGM5sU",
        "colab_type": "code",
        "colab": {
          "base_uri": "https://localhost:8080/",
          "height": 53
        },
        "outputId": "ed3ca233-4091-42d6-a1fc-a63dc9f3b17f"
      },
      "source": [
        "attack_df['attack_P3'].value_counts()"
      ],
      "execution_count": 16,
      "outputs": [
        {
          "output_type": "execute_result",
          "data": {
            "text/plain": [
              "0    776\n",
              "Name: attack_P3, dtype: int64"
            ]
          },
          "metadata": {
            "tags": []
          },
          "execution_count": 16
        }
      ]
    },
    {
      "cell_type": "markdown",
      "metadata": {
        "id": "YHbeekr6M_D6",
        "colab_type": "text"
      },
      "source": [
        "안타깝게도 attack_df로는 attack과 attack_P1, attack_P2, attack_P3과의 연관관계를 찾을 수 없다. 이번엔 "
      ]
    },
    {
      "cell_type": "code",
      "metadata": {
        "id": "XzIysAJTM6_A",
        "colab_type": "code",
        "colab": {}
      },
      "source": [
        ""
      ],
      "execution_count": null,
      "outputs": []
    }
  ]
}